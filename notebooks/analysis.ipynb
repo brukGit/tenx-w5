{
 "cells": [
  {
   "cell_type": "markdown",
   "metadata": {},
   "source": [
    "# Telegram E-commerce Data Scraping and Preprocessing\n",
    "\n",
    "This notebook runs the scraping and preprocessing of data from Ethiopian Telegram e-commerce channels."
   ]
  },
  {
   "cell_type": "code",
   "execution_count": null,
   "metadata": {},
   "outputs": [],
   "source": [
    "import sys\n",
    "import os\n",
    "\n",
    "# Add the src directory to the Python path\n",
    "sys.path.append(os.path.abspath('../src'))\n",
    "\n",
    "from telegram_scraper import TelegramScraper\n",
    "from data_preprocessor import DataPreprocessor"
   ]
  },
  {
   "cell_type": "markdown",
   "metadata": {},
   "source": [
    "## Run Scraper"
   ]
  },
  {
   "cell_type": "code",
   "execution_count": null,
   "metadata": {},
   "outputs": [],
   "source": [
    "channels = [\n",
    "    '@ZemenExpress', '@sinayelj', '@MerttEka', '@yebatochmregagroup',\n",
    "    '@helloomarketethiopia', '@Leyueqa', '@kstoreaddis', '@Fashiontera'\n",
    "]\n",
    "output_file = '../data/raw/telegram_data.csv'\n",
    "media_dir = '../data/raw/media'\n",
    "\n",
    "scraper = TelegramScraper()\n",
    "scraper.run_scraper(channels, output_file, media_dir)"
   ]
  },
  {
   "cell_type": "markdown",
   "metadata": {},
   "source": [
    "## Run Preprocessor"
   ]
  },
  {
   "cell_type": "code",
   "execution_count": null,
   "metadata": {},
   "outputs": [],
   "source": [
    "input_file = '../data/raw/telegram_data.csv'\n",
    "output_file = '../data/processed/preprocessed_data.csv'\n",
    "DataPreprocessor.preprocess_data(input_file, output_file)"
   ]
  },
  {
   "cell_type": "markdown",
   "metadata": {},
   "source": [
    "## Next Steps\n",
    "\n",
    "1. Analyze the preprocessed data\n",
    "2. Prepare a subset of data for manual labeling in CoNLL format"
   ]
  }
 ],
 "metadata": {
  "language_info": {
   "name": "python"
  }
 },
 "nbformat": 4,
 "nbformat_minor": 2
}
